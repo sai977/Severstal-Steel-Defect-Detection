{
 "cells": [
  {
   "cell_type": "markdown",
   "metadata": {
    "colab_type": "text",
    "id": "cTbpRp3GOmTX"
   },
   "source": [
    "# Steel Defect Detection"
   ]
  },
  {
   "cell_type": "markdown",
   "metadata": {
    "colab_type": "text",
    "id": "NQdnVqGDO6tK"
   },
   "source": [
    "Steel is one of the most important building materials of modern times. Steel buildings are resistant to natural and man-made wear which has made the material ubiquitous around the world. To help make production of steel more efficient, this competition will help identify defects"
   ]
  },
  {
   "cell_type": "markdown",
   "metadata": {
    "colab_type": "text",
    "id": "92qHtz25a8wC"
   },
   "source": [
    "### Problem statement :"
   ]
  },
  {
   "cell_type": "markdown",
   "metadata": {
    "colab_type": "text",
    "id": "OBd202kmOXv3"
   },
   "source": [
    "This competition is a two-fold competition: classify the type of steel defect, and also segment the parts of the image that contain the defect."
   ]
  },
  {
   "cell_type": "markdown",
   "metadata": {
    "colab_type": "text",
    "id": "BtH80b8Pa8wE"
   },
   "source": [
    "### Metrics :"
   ]
  },
  {
   "cell_type": "markdown",
   "metadata": {
    "colab_type": "text",
    "id": "Kd70XeRia8wF"
   },
   "source": [
    "#### Dice coefficient: "
   ]
  },
  {
   "cell_type": "markdown",
   "metadata": {
    "colab_type": "text",
    "id": "Q61vkKbIPMGC"
   },
   "source": [
    "The Dice coefficient can be used to compare the pixel-wise agreement between a predicted segmentation and its corresponding ground truth. The formula is given by:"
   ]
  },
  {
   "cell_type": "markdown",
   "metadata": {
    "colab_type": "text",
    "id": "nmOv_T4Sa8wH"
   },
   "source": [
    "<math xmlns=\"http://www.w3.org/1998/Math/MathML\" display=\"block\">\n",
    "  <mfrac>\n",
    "    <mrow>\n",
    "      <mn>2</mn>\n",
    "      <mo>&#x2217;<!-- ∗ --></mo>\n",
    "      <mrow class=\"MJX-TeXAtom-ORD\">\n",
    "        <mo stretchy=\"false\">|</mo>\n",
    "      </mrow>\n",
    "      <mi>X</mi>\n",
    "      <mo>&#x2229;<!-- ∩ --></mo>\n",
    "      <mi>Y</mi>\n",
    "      <mrow class=\"MJX-TeXAtom-ORD\">\n",
    "        <mo stretchy=\"false\">|</mo>\n",
    "      </mrow>\n",
    "    </mrow>\n",
    "    <mrow>\n",
    "      <mrow class=\"MJX-TeXAtom-ORD\">\n",
    "        <mo stretchy=\"false\">|</mo>\n",
    "      </mrow>\n",
    "      <mi>X</mi>\n",
    "      <mrow class=\"MJX-TeXAtom-ORD\">\n",
    "        <mo stretchy=\"false\">|</mo>\n",
    "      </mrow>\n",
    "      <mo>+</mo>\n",
    "      <mrow class=\"MJX-TeXAtom-ORD\">\n",
    "        <mo stretchy=\"false\">|</mo>\n",
    "      </mrow>\n",
    "      <mi>Y</mi>\n",
    "      <mrow class=\"MJX-TeXAtom-ORD\">\n",
    "        <mo stretchy=\"false\">|</mo>\n",
    "      </mrow>\n",
    "    </mrow>\n",
    "  </mfrac>\n",
    "</math>\n",
    "\n"
   ]
  },
  {
   "cell_type": "markdown",
   "metadata": {
    "colab_type": "text",
    "id": "BlWQhjTEa8wI"
   },
   "source": [
    "where X is the predicted set of pixels and Y is the ground truth. The Dice coefficient is defined to be 1 when both X and Y are empty."
   ]
  },
  {
   "cell_type": "markdown",
   "metadata": {},
   "source": [
    "### Constraint"
   ]
  },
  {
   "cell_type": "markdown",
   "metadata": {
    "colab_type": "text",
    "id": "nmzhn1q2a8wI"
   },
   "source": [
    "### EncodedPixels\n",
    "In order to reduce the submission file size, metric uses run-length encoding on the pixel values. Instead of submitting an exhaustive list of indices for your segmentation, we will submit pairs of values that contain a start position and a run length. E.g. '1 3' implies starting at pixel 1 and running a total of 3 pixels (1,2,3)."
   ]
  },
  {
   "cell_type": "code",
   "execution_count": 1,
   "metadata": {
    "_cell_guid": "79c7e3d0-c299-4dcb-8224-4455121ee9b0",
    "_uuid": "d629ff2d2480ee46fbb7e2d37f6b5fab8052498a",
    "colab": {
     "base_uri": "https://localhost:8080/",
     "height": 34
    },
    "colab_type": "code",
    "id": "wQx_XMwmdqRg",
    "outputId": "f949f19d-5b9c-47e9-c17f-c27317633644"
   },
   "outputs": [],
   "source": [
    "%matplotlib inline\n",
    "import matplotlib.pyplot as plt\n",
    "import random\n",
    "import os\n",
    "import numpy as np # linear algebra\n",
    "import pandas as pd # data processing, CSV file I/O (e.g. pd.read_csv)\n",
    "import cv2\n",
    "import os\n",
    "from PIL import Image \n",
    "import tensorflow as tf\n",
    "import keras.backend as K\n",
    "from keras.applications import Xception\n",
    "from keras.layers import UpSampling2D, Conv2D, Activation, LeakyReLU, BatchNormalization,Input,Conv2DTranspose\n",
    "from keras import Model\n",
    "from keras.losses import binary_crossentropy\n",
    "from keras.preprocessing.image import ImageDataGenerator\n",
    "from keras.callbacks import EarlyStopping, ReduceLROnPlateau, ModelCheckpoint, LearningRateScheduler,Callback\n",
    "from tqdm import tqdm_notebook\n",
    "from keras.layers.pooling import MaxPooling2D\n",
    "from keras.layers.merge import concatenate"
   ]
  },
  {
   "cell_type": "markdown",
   "metadata": {
    "colab_type": "text",
    "id": "JokpN8hga8wN"
   },
   "source": [
    "# Exploratory Data Analysis"
   ]
  },
  {
   "cell_type": "code",
   "execution_count": 5,
   "metadata": {
    "colab": {
     "base_uri": "https://localhost:8080/",
     "height": 34
    },
    "colab_type": "code",
    "id": "tb6TTv8NdqRl",
    "outputId": "0378a7ef-039c-4567-9ca2-db82b60d6846"
   },
   "outputs": [
    {
     "data": {
      "text/plain": [
       "(50272, 2)"
      ]
     },
     "execution_count": 5,
     "metadata": {
      "tags": []
     },
     "output_type": "execute_result"
    }
   ],
   "source": [
    "df = pd.read_csv('/content/train.csv')\n",
    "df.shape"
   ]
  },
  {
   "cell_type": "code",
   "execution_count": 6,
   "metadata": {
    "colab": {
     "base_uri": "https://localhost:8080/",
     "height": 50
    },
    "colab_type": "code",
    "id": "Lxj5wDTZimst",
    "outputId": "21be77a4-669f-4c08-ea4e-bd9b0347eff1"
   },
   "outputs": [
    {
     "name": "stdout",
     "output_type": "stream",
     "text": [
      "There are 12568 images in the train set.\n",
      "There are 1801 images in the test set.\n"
     ]
    }
   ],
   "source": [
    "from glob import glob\n",
    "# set paths to train and test image datasets\n",
    "TRAIN_PATH = '/content/train_images/'\n",
    "TEST_PATH = '/content/test_images/'\n",
    "\n",
    "# load dataframe with train labels\n",
    "train_fns = sorted(glob(TRAIN_PATH + '*.jpg'))\n",
    "test_fns = sorted(glob(TEST_PATH + '*.jpg'))\n",
    "\n",
    "print('There are {} images in the train set.'.format(len(train_fns)))\n",
    "print('There are {} images in the test set.'.format(len(test_fns)))"
   ]
  },
  {
   "cell_type": "code",
   "execution_count": 7,
   "metadata": {
    "colab": {
     "base_uri": "https://localhost:8080/",
     "height": 377
    },
    "colab_type": "code",
    "id": "u3v4rAKOi-_V",
    "outputId": "a4cba161-e92c-4d3d-c01f-86622f5d25c5"
   },
   "outputs": [
    {
     "data": {
      "image/png": "[encoded data removed]",
      "text/plain": [
       "<Figure size 432x432 with 1 Axes>"
      ]
     },
     "metadata": {
      "tags": []
     },
     "output_type": "display_data"
    }
   ],
   "source": [
    "# plotting a pie chart which demonstrates train and test sets\n",
    "labels = 'Train', 'Test'\n",
    "sizes = [len(train_fns), len(test_fns)]\n",
    "explode = (0, 0.1)\n",
    "\n",
    "fig, ax = plt.subplots(figsize=(6, 6))\n",
    "ax.pie(sizes, explode=explode, labels=labels, autopct='%1.1f%%', shadow=True, startangle=90)\n",
    "ax.axis('equal')\n",
    "ax.set_title('Train and Test Sets')\n",
    "\n",
    "plt.show()"
   ]
  },
  {
   "cell_type": "markdown",
   "metadata": {
    "colab_type": "text",
    "id": "UhwWQUima8wX"
   },
   "source": [
    "#### How many steel images have disadvantages?"
   ]
  },
  {
   "cell_type": "code",
   "execution_count": 8,
   "metadata": {
    "colab": {
     "base_uri": "https://localhost:8080/",
     "height": 101
    },
    "colab_type": "code",
    "id": "7vSsqH4LjeK2",
    "outputId": "24d3935d-f3bc-498b-e13f-83957b7d7018"
   },
   "outputs": [
    {
     "name": "stdout",
     "output_type": "stream",
     "text": [
      "Train_df INFO : \n",
      "\n",
      "1.Number of data points :  50272\n",
      "2.Correct images  :  43177\n",
      "3.Incorrect images :  7095\n"
     ]
    }
   ],
   "source": [
    "print(\"Train_df INFO : \\n\")\n",
    "print(\"1.Number of data points : \", len(df))\n",
    "print(\"2.Correct images  : \", df[\"EncodedPixels\"].isna().sum().T)\n",
    "print(\"3.Incorrect images : \",len(df) - df[\"EncodedPixels\"].isna().sum().T )"
   ]
  },
  {
   "cell_type": "markdown",
   "metadata": {
    "colab_type": "text",
    "id": "xVd0HpW3a8wa"
   },
   "source": [
    "#### About 7095 images posses disadvantages"
   ]
  },
  {
   "cell_type": "markdown",
   "metadata": {
    "colab_type": "text",
    "id": "4tuFGqD5a8wb"
   },
   "source": [
    "#### How many classes are assigned to a single photo? It's single or multilabel segmentation problem ?"
   ]
  },
  {
   "cell_type": "code",
   "execution_count": 9,
   "metadata": {
    "colab": {
     "base_uri": "https://localhost:8080/",
     "height": 123
    },
    "colab_type": "code",
    "id": "y92QXomBk5eH",
    "outputId": "56fc34f5-64d9-466d-abb2-14c89e18d099"
   },
   "outputs": [
    {
     "data": {
      "text/html": [
       "<div>\n",
       "<style scoped>\n",
       "    .dataframe tbody tr th:only-of-type {\n",
       "        vertical-align: middle;\n",
       "    }\n",
       "\n",
       "    .dataframe tbody tr th {\n",
       "        vertical-align: top;\n",
       "    }\n",
       "\n",
       "    .dataframe thead th {\n",
       "        text-align: right;\n",
       "    }\n",
       "</style>\n",
       "<table border=\"1\" class=\"dataframe\">\n",
       "  <thead>\n",
       "    <tr style=\"text-align: right;\">\n",
       "      <th></th>\n",
       "      <th>ImageId_ClassId</th>\n",
       "      <th>EncodedPixels</th>\n",
       "      <th>Label</th>\n",
       "      <th>Image_id</th>\n",
       "    </tr>\n",
       "  </thead>\n",
       "  <tbody>\n",
       "    <tr>\n",
       "      <th>0</th>\n",
       "      <td>0002cc93b.jpg_1</td>\n",
       "      <td>29102 12 29346 24 29602 24 29858 24 30114 24 3...</td>\n",
       "      <td>1</td>\n",
       "      <td>0002cc93b.jpg</td>\n",
       "    </tr>\n",
       "    <tr>\n",
       "      <th>1</th>\n",
       "      <td>0002cc93b.jpg_2</td>\n",
       "      <td>NaN</td>\n",
       "      <td>2</td>\n",
       "      <td>0002cc93b.jpg</td>\n",
       "    </tr>\n",
       "  </tbody>\n",
       "</table>\n",
       "</div>"
      ],
      "text/plain": [
       "   ImageId_ClassId  ...       Image_id\n",
       "0  0002cc93b.jpg_1  ...  0002cc93b.jpg\n",
       "1  0002cc93b.jpg_2  ...  0002cc93b.jpg\n",
       "\n",
       "[2 rows x 4 columns]"
      ]
     },
     "execution_count": 9,
     "metadata": {
      "tags": []
     },
     "output_type": "execute_result"
    }
   ],
   "source": [
    "# add new features from existing one\n",
    "df[\"Label\"] = df[\"ImageId_ClassId\"].apply(lambda x : x.split(\"_\")[1])\n",
    "df[\"Image_id\"] = df[\"ImageId_ClassId\"].apply(lambda x : x.split(\"_\")[0])\n",
    "df.head(2)"
   ]
  },
  {
   "cell_type": "code",
   "execution_count": 10,
   "metadata": {
    "colab": {
     "base_uri": "https://localhost:8080/",
     "height": 279
    },
    "colab_type": "code",
    "id": "2sfTdyjslB0F",
    "outputId": "11717800-9e8c-4806-bf75-efe929472107"
   },
   "outputs": [
    {
     "data": {
      "text/html": [
       "<div>\n",
       "<style scoped>\n",
       "    .dataframe tbody tr th:only-of-type {\n",
       "        vertical-align: middle;\n",
       "    }\n",
       "\n",
       "    .dataframe tbody tr th {\n",
       "        vertical-align: top;\n",
       "    }\n",
       "\n",
       "    .dataframe thead th {\n",
       "        text-align: right;\n",
       "    }\n",
       "</style>\n",
       "<table border=\"1\" class=\"dataframe\">\n",
       "  <thead>\n",
       "    <tr style=\"text-align: right;\">\n",
       "      <th></th>\n",
       "      <th>ImageId_ClassId</th>\n",
       "      <th>EncodedPixels</th>\n",
       "      <th>Label</th>\n",
       "      <th>Image_id</th>\n",
       "    </tr>\n",
       "  </thead>\n",
       "  <tbody>\n",
       "    <tr>\n",
       "      <th>0</th>\n",
       "      <td>0002cc93b.jpg_1</td>\n",
       "      <td>29102 12 29346 24 29602 24 29858 24 30114 24 3...</td>\n",
       "      <td>1</td>\n",
       "      <td>0002cc93b.jpg</td>\n",
       "    </tr>\n",
       "    <tr>\n",
       "      <th>18</th>\n",
       "      <td>0007a71bf.jpg_3</td>\n",
       "      <td>18661 28 18863 82 19091 110 19347 110 19603 11...</td>\n",
       "      <td>3</td>\n",
       "      <td>0007a71bf.jpg</td>\n",
       "    </tr>\n",
       "    <tr>\n",
       "      <th>20</th>\n",
       "      <td>000a4bcdd.jpg_1</td>\n",
       "      <td>37607 3 37858 8 38108 14 38359 20 38610 25 388...</td>\n",
       "      <td>1</td>\n",
       "      <td>000a4bcdd.jpg</td>\n",
       "    </tr>\n",
       "    <tr>\n",
       "      <th>27</th>\n",
       "      <td>000f6bf48.jpg_4</td>\n",
       "      <td>131973 1 132228 4 132483 6 132738 8 132993 11 ...</td>\n",
       "      <td>4</td>\n",
       "      <td>000f6bf48.jpg</td>\n",
       "    </tr>\n",
       "    <tr>\n",
       "      <th>30</th>\n",
       "      <td>0014fce06.jpg_3</td>\n",
       "      <td>229501 11 229741 33 229981 55 230221 77 230468...</td>\n",
       "      <td>3</td>\n",
       "      <td>0014fce06.jpg</td>\n",
       "    </tr>\n",
       "  </tbody>\n",
       "</table>\n",
       "</div>"
      ],
      "text/plain": [
       "    ImageId_ClassId  ...       Image_id\n",
       "0   0002cc93b.jpg_1  ...  0002cc93b.jpg\n",
       "18  0007a71bf.jpg_3  ...  0007a71bf.jpg\n",
       "20  000a4bcdd.jpg_1  ...  000a4bcdd.jpg\n",
       "27  000f6bf48.jpg_4  ...  000f6bf48.jpg\n",
       "30  0014fce06.jpg_3  ...  0014fce06.jpg\n",
       "\n",
       "[5 rows x 4 columns]"
      ]
     },
     "execution_count": 10,
     "metadata": {
      "tags": []
     },
     "output_type": "execute_result"
    }
   ],
   "source": [
    "#data without nans\n",
    "train_df_damaged = df[df[\"EncodedPixels\"].notnull()]\n",
    "train_df_damaged.head()"
   ]
  },
  {
   "cell_type": "code",
   "execution_count": 11,
   "metadata": {
    "colab": {
     "base_uri": "https://localhost:8080/",
     "height": 491
    },
    "colab_type": "code",
    "id": "X_2wJETwlWr4",
    "outputId": "cec8ef97-9614-4b96-8f1f-96546aa0b607"
   },
   "outputs": [
    {
     "name": "stdout",
     "output_type": "stream",
     "text": [
      "Numeric info : \n",
      "\n",
      "1 class :  6239\n",
      "2 classes :  425\n",
      "3 classes :  2\n",
      "4 classes :  0\n"
     ]
    },
    {
     "data": {
      "image/png": "[encoded data removed]",
      "text/plain": [
       "<Figure size 1080x360 with 1 Axes>"
      ]
     },
     "metadata": {
      "tags": []
     },
     "output_type": "display_data"
    }
   ],
   "source": [
    "n_class_per_image =  train_df_damaged[\"Label\"].groupby(train_df_damaged[\"Image_id\"]).count()\n",
    "plt.figure(figsize=(15,5))\n",
    "plt.suptitle(\"Number of labels per 1 image\")\n",
    "plt.grid()\n",
    "import seaborn as sns\n",
    "sns.countplot(y=n_class_per_image)\n",
    "print(\"Numeric info : \\n\")\n",
    "print(\"1 class : \",len(n_class_per_image[n_class_per_image == 1]))\n",
    "print(\"2 classes : \",len(n_class_per_image[n_class_per_image == 2]))\n",
    "print(\"3 classes : \",len(n_class_per_image[n_class_per_image == 3]))\n",
    "print(\"4 classes : \",len(n_class_per_image[n_class_per_image == 4]))"
   ]
  },
  {
   "cell_type": "markdown",
   "metadata": {
    "colab_type": "text",
    "id": "lkhwLdrka8wm"
   },
   "source": [
    "Most n_classes per image = 1\n",
    "\n",
    "Least n_classes per image = 3\n",
    "\n",
    "Max n_classes per image = 3\n",
    "\n",
    "At this context we struggle with multilabel segmentation"
   ]
  },
  {
   "cell_type": "code",
   "execution_count": 12,
   "metadata": {
    "colab": {
     "base_uri": "https://localhost:8080/",
     "height": 529
    },
    "colab_type": "code",
    "id": "Gu4ljjgFlrSX",
    "outputId": "5d272903-5532-4fa6-fda3-eac31c07f898"
   },
   "outputs": [
    {
     "data": {
      "image/png": "[encoded data removed]",
      "text/plain": [
       "<Figure size 1440x576 with 1 Axes>"
      ]
     },
     "metadata": {
      "tags": []
     },
     "output_type": "display_data"
    }
   ],
   "source": [
    "df.groupby('Label')['EncodedPixels'].count().plot(kind='bar',\n",
    "                                                            title='Number of defects by type', \n",
    "                                                            figsize=(20, 8),\n",
    "                                                            grid=True);"
   ]
  },
  {
   "cell_type": "code",
   "execution_count": 13,
   "metadata": {
    "colab": {
     "base_uri": "https://localhost:8080/",
     "height": 34
    },
    "colab_type": "code",
    "id": "RmAotYvymBlX",
    "outputId": "f29d7883-7a5e-4117-e35c-4d2b7777e218"
   },
   "outputs": [
    {
     "name": "stdout",
     "output_type": "stream",
     "text": [
      "There are 43177 rows with empty segmentation maps.\n"
     ]
    }
   ],
   "source": [
    "print('There are {} rows with empty segmentation maps.'.format(len(df) - df.EncodedPixels.count()))"
   ]
  },
  {
   "cell_type": "code",
   "execution_count": 14,
   "metadata": {
    "colab": {
     "base_uri": "https://localhost:8080/",
     "height": 377
    },
    "colab_type": "code",
    "id": "KMlkBHJ1mBqM",
    "outputId": "8224716e-52ad-4e3d-9f6d-888f6cea1f60"
   },
   "outputs": [
    {
     "data": {
      "image/png": "[encoded data removed]",
      "text/plain": [
       "<Figure size 432x432 with 1 Axes>"
      ]
     },
     "metadata": {
      "tags": []
     },
     "output_type": "display_data"
    }
   ],
   "source": [
    "# plotting a pie chart\n",
    "labels = 'Non-empty', 'Empty'\n",
    "sizes = [df.EncodedPixels.count(), len(df) - df.EncodedPixels.count()]\n",
    "explode = (0, 0.1)\n",
    "\n",
    "fig, ax = plt.subplots(figsize=(6, 6))\n",
    "ax.pie(sizes, explode=explode, labels=labels, autopct='%1.1f%%', shadow=True, startangle=90)\n",
    "ax.axis('equal')\n",
    "ax.set_title('Non-empty and Empty Masks')\n",
    "\n",
    "plt.show()"
   ]
  },
  {
   "cell_type": "code",
   "execution_count": 15,
   "metadata": {
    "colab": {
     "base_uri": "https://localhost:8080/",
     "height": 212
    },
    "colab_type": "code",
    "id": "Qv4znZn2mBjG",
    "outputId": "530bd986-3df3-4dea-dae5-67c4603d6c4a"
   },
   "outputs": [
    {
     "data": {
      "text/html": [
       "<div>\n",
       "<style scoped>\n",
       "    .dataframe tbody tr th:only-of-type {\n",
       "        vertical-align: middle;\n",
       "    }\n",
       "\n",
       "    .dataframe tbody tr th {\n",
       "        vertical-align: top;\n",
       "    }\n",
       "\n",
       "    .dataframe thead th {\n",
       "        text-align: right;\n",
       "    }\n",
       "</style>\n",
       "<table border=\"1\" class=\"dataframe\">\n",
       "  <thead>\n",
       "    <tr style=\"text-align: right;\">\n",
       "      <th></th>\n",
       "      <th>ImageId_ClassId</th>\n",
       "      <th>EncodedPixels</th>\n",
       "      <th>Label</th>\n",
       "      <th>Image_id</th>\n",
       "      <th>Image</th>\n",
       "    </tr>\n",
       "  </thead>\n",
       "  <tbody>\n",
       "    <tr>\n",
       "      <th>0</th>\n",
       "      <td>0002cc93b.jpg_1</td>\n",
       "      <td>29102 12 29346 24 29602 24 29858 24 30114 24 3...</td>\n",
       "      <td>1</td>\n",
       "      <td>0002cc93b.jpg</td>\n",
       "      <td>0002cc93b.jpg</td>\n",
       "    </tr>\n",
       "    <tr>\n",
       "      <th>1</th>\n",
       "      <td>0002cc93b.jpg_2</td>\n",
       "      <td>NaN</td>\n",
       "      <td>2</td>\n",
       "      <td>0002cc93b.jpg</td>\n",
       "      <td>0002cc93b.jpg</td>\n",
       "    </tr>\n",
       "    <tr>\n",
       "      <th>2</th>\n",
       "      <td>0002cc93b.jpg_3</td>\n",
       "      <td>NaN</td>\n",
       "      <td>3</td>\n",
       "      <td>0002cc93b.jpg</td>\n",
       "      <td>0002cc93b.jpg</td>\n",
       "    </tr>\n",
       "    <tr>\n",
       "      <th>3</th>\n",
       "      <td>0002cc93b.jpg_4</td>\n",
       "      <td>NaN</td>\n",
       "      <td>4</td>\n",
       "      <td>0002cc93b.jpg</td>\n",
       "      <td>0002cc93b.jpg</td>\n",
       "    </tr>\n",
       "    <tr>\n",
       "      <th>4</th>\n",
       "      <td>00031f466.jpg_1</td>\n",
       "      <td>NaN</td>\n",
       "      <td>1</td>\n",
       "      <td>00031f466.jpg</td>\n",
       "      <td>00031f466.jpg</td>\n",
       "    </tr>\n",
       "  </tbody>\n",
       "</table>\n",
       "</div>"
      ],
      "text/plain": [
       "   ImageId_ClassId  ...          Image\n",
       "0  0002cc93b.jpg_1  ...  0002cc93b.jpg\n",
       "1  0002cc93b.jpg_2  ...  0002cc93b.jpg\n",
       "2  0002cc93b.jpg_3  ...  0002cc93b.jpg\n",
       "3  0002cc93b.jpg_4  ...  0002cc93b.jpg\n",
       "4  00031f466.jpg_1  ...  00031f466.jpg\n",
       "\n",
       "[5 rows x 5 columns]"
      ]
     },
     "execution_count": 15,
     "metadata": {
      "tags": []
     },
     "output_type": "execute_result"
    }
   ],
   "source": [
    "# split column\n",
    "split_df = df[\"ImageId_ClassId\"].str.split(\"_\", n = 1, expand = True)\n",
    "\n",
    "# add new columns to train_df\n",
    "df['Image'] = split_df[0]\n",
    "df['Label'] = split_df[1]\n",
    "\n",
    "# check the result\n",
    "df.head()"
   ]
  },
  {
   "cell_type": "code",
   "execution_count": 16,
   "metadata": {
    "colab": {
     "base_uri": "https://localhost:8080/",
     "height": 101
    },
    "colab_type": "code",
    "id": "y8Rw1QRGmzFF",
    "outputId": "93ddf758-e009-45d2-c96c-80808a2c30bb"
   },
   "outputs": [
    {
     "name": "stdout",
     "output_type": "stream",
     "text": [
      "There are 897 defect1 images\n",
      "There are 247 defect2 images\n",
      "There are 5150 defect3 images\n",
      "There are 801 defect4 images\n",
      "There are 5473 images with no defects\n"
     ]
    }
   ],
   "source": [
    "defect1 = df[df['Label'] == '1'].EncodedPixels.count()\n",
    "defect2 = df[df['Label'] == '2'].EncodedPixels.count()\n",
    "defect3 = df[df['Label'] == '3'].EncodedPixels.count()\n",
    "defect4 = df[df['Label'] == '4'].EncodedPixels.count()\n",
    "\n",
    "print('There are {} defect1 images'.format(defect1))\n",
    "print('There are {} defect2 images'.format(defect2))\n",
    "print('There are {} defect3 images'.format(defect3))\n",
    "print('There are {} defect4 images'.format(defect4))\n",
    "print('There are {} images with no defects'.format(len(train_fns) - defect1 - defect2 - defect3 - defect4))"
   ]
  },
  {
   "cell_type": "code",
   "execution_count": 17,
   "metadata": {
    "colab": {
     "base_uri": "https://localhost:8080/",
     "height": 377
    },
    "colab_type": "code",
    "id": "ATYelNJRm_BY",
    "outputId": "8e569d0d-ddd9-4da8-dbd1-f652ff40c1e9"
   },
   "outputs": [
    {
     "data": {
      "image/png": "[encoded data removed]",
      "text/plain": [
       "<Figure size 432x432 with 1 Axes>"
      ]
     },
     "metadata": {
      "tags": []
     },
     "output_type": "display_data"
    }
   ],
   "source": [
    "# plotting a pie chart\n",
    "labels = 'Defect 1', 'Defect 2', 'Defect 3', 'Defect 4', 'No defects'\n",
    "sizes = [defect1, defect2, defect3, defect4, len(train_fns) - defect1 - defect2 - defect3 - defect4]\n",
    "\n",
    "fig, ax = plt.subplots(figsize=(6, 6))\n",
    "ax.pie(sizes, labels=labels, autopct='%1.1f%%', shadow=True, startangle=90)\n",
    "ax.axis('equal')\n",
    "ax.set_title('Defect Types')\n",
    "\n",
    "plt.show()"
   ]
  },
  {
   "cell_type": "markdown",
   "metadata": {
    "colab_type": "text",
    "id": "6E_CMnxTa8w6"
   },
   "source": [
    "Conclusions:\n",
    "\n",
    "The dataset is very imbalanced.\n",
    "\n",
    "Data augmentation and resampling techniques will be required to perform the defect detection."
   ]
  },
  {
   "cell_type": "code",
   "execution_count": 18,
   "metadata": {
    "colab": {
     "base_uri": "https://localhost:8080/",
     "height": 34
    },
    "colab_type": "code",
    "id": "9tdps807nG5h",
    "outputId": "26bd2544-8d5b-49a5-8e4a-e7dfd53a6da5"
   },
   "outputs": [
    {
     "name": "stdout",
     "output_type": "stream",
     "text": [
      "The mean number of labels per image is 0.564528962444303\n"
     ]
    }
   ],
   "source": [
    "labels_per_image = df.groupby('Image')['EncodedPixels'].count()\n",
    "print('The mean number of labels per image is {}'.format(labels_per_image.mean()))"
   ]
  },
  {
   "cell_type": "code",
   "execution_count": 19,
   "metadata": {
    "colab": {
     "base_uri": "https://localhost:8080/",
     "height": 407
    },
    "colab_type": "code",
    "id": "Nn3JD2IGnTbp",
    "outputId": "0fc94f2d-9e69-47c9-d3c1-b9ef910d4f43"
   },
   "outputs": [
    {
     "data": {
      "text/plain": [
       "Text(0.5, 1.0, 'Number of Labels per Image')"
      ]
     },
     "execution_count": 19,
     "metadata": {
      "tags": []
     },
     "output_type": "execute_result"
    },
    {
     "data": {
      "image/png": "[encoded data removed]",
      "text/plain": [
       "<Figure size 432x432 with 1 Axes>"
      ]
     },
     "metadata": {
      "tags": []
     },
     "output_type": "display_data"
    }
   ],
   "source": [
    "fig, ax = plt.subplots(figsize=(6, 6))\n",
    "ax.hist(labels_per_image)\n",
    "ax.set_title('Number of Labels per Image')"
   ]
  },
  {
   "cell_type": "markdown",
   "metadata": {
    "colab_type": "text",
    "id": "U4pFdWRaa8xE"
   },
   "source": [
    "#### Conclusions:\n",
    "\n",
    "Almost half of images doesn't contain any defects;\n",
    "\n",
    "Most of images with defects contain the defects of only one type;\n",
    "\n",
    "In rare cases an image contains the defects of two different types."
   ]
  },
  {
   "cell_type": "markdown",
   "metadata": {
    "colab_type": "text",
    "id": "0dAvW586bD_V"
   },
   "source": [
    "# preprocessing data"
   ]
  },
  {
   "cell_type": "code",
   "execution_count": 20,
   "metadata": {
    "colab": {
     "base_uri": "https://localhost:8080/",
     "height": 229
    },
    "colab_type": "code",
    "id": "gfQHczhWKs9M",
    "outputId": "cd36b53f-df6e-45d0-eb19-8b9aeece3acd"
   },
   "outputs": [
    {
     "data": {
      "text/html": [
       "<div>\n",
       "<style scoped>\n",
       "    .dataframe tbody tr th:only-of-type {\n",
       "        vertical-align: middle;\n",
       "    }\n",
       "\n",
       "    .dataframe tbody tr th {\n",
       "        vertical-align: top;\n",
       "    }\n",
       "\n",
       "    .dataframe thead th {\n",
       "        text-align: right;\n",
       "    }\n",
       "</style>\n",
       "<table border=\"1\" class=\"dataframe\">\n",
       "  <thead>\n",
       "    <tr style=\"text-align: right;\">\n",
       "      <th></th>\n",
       "      <th>ImageId</th>\n",
       "      <th>e1</th>\n",
       "      <th>e2</th>\n",
       "      <th>e3</th>\n",
       "      <th>e4</th>\n",
       "    </tr>\n",
       "  </thead>\n",
       "  <tbody>\n",
       "    <tr>\n",
       "      <th>0</th>\n",
       "      <td>0002cc93b.jpg</td>\n",
       "      <td>29102 12 29346 24 29602 24 29858 24 30114 24 3...</td>\n",
       "      <td></td>\n",
       "      <td></td>\n",
       "      <td></td>\n",
       "    </tr>\n",
       "    <tr>\n",
       "      <th>1</th>\n",
       "      <td>00031f466.jpg</td>\n",
       "      <td></td>\n",
       "      <td></td>\n",
       "      <td></td>\n",
       "      <td></td>\n",
       "    </tr>\n",
       "    <tr>\n",
       "      <th>2</th>\n",
       "      <td>000418bfc.jpg</td>\n",
       "      <td></td>\n",
       "      <td></td>\n",
       "      <td></td>\n",
       "      <td></td>\n",
       "    </tr>\n",
       "    <tr>\n",
       "      <th>3</th>\n",
       "      <td>000789191.jpg</td>\n",
       "      <td></td>\n",
       "      <td></td>\n",
       "      <td></td>\n",
       "      <td></td>\n",
       "    </tr>\n",
       "    <tr>\n",
       "      <th>4</th>\n",
       "      <td>0007a71bf.jpg</td>\n",
       "      <td></td>\n",
       "      <td></td>\n",
       "      <td>18661 28 18863 82 19091 110 19347 110 19603 11...</td>\n",
       "      <td></td>\n",
       "    </tr>\n",
       "  </tbody>\n",
       "</table>\n",
       "</div>"
      ],
      "text/plain": [
       "         ImageId  ... e4\n",
       "0  0002cc93b.jpg  ...   \n",
       "1  00031f466.jpg  ...   \n",
       "2  000418bfc.jpg  ...   \n",
       "3  000789191.jpg  ...   \n",
       "4  0007a71bf.jpg  ...   \n",
       "\n",
       "[5 rows x 5 columns]"
      ]
     },
     "execution_count": 20,
     "metadata": {
      "tags": []
     },
     "output_type": "execute_result"
    }
   ],
   "source": [
    "df['ImageId'] = df['ImageId_ClassId'].map(lambda x : x.split(\".\")[0]+'.jpg') # This will take id after interval of 4 rows.\n",
    "train = pd.DataFrame({'ImageId':df['ImageId'][0::4]}) # Creating dataframe with image names of images\n",
    "train['e1'] = df['EncodedPixels'][0::4].values # Will take encoding after interval of 4.\n",
    "train['e2'] = df['EncodedPixels'][1::4].values\n",
    "train['e3'] = df['EncodedPixels'][2::4].values\n",
    "train['e4'] = df['EncodedPixels'][3::4].values\n",
    "train.reset_index(inplace=True, drop=True)\n",
    "train.fillna('', inplace=True)\n",
    "train.head()"
   ]
  },
  {
   "cell_type": "code",
   "execution_count": 0,
   "metadata": {
    "colab": {},
    "colab_type": "code",
    "id": "vkelP71oLD67"
   },
   "outputs": [],
   "source": [
    "train_df = train.iloc[:int(0.80*len(train))]\n",
    "test_df = train.iloc[int(0.80*len(train)):int(0.9*len(train))]\n",
    "cv_df = train.iloc[int(0.9*len(train)):]"
   ]
  },
  {
   "cell_type": "code",
   "execution_count": 22,
   "metadata": {
    "colab": {
     "base_uri": "https://localhost:8080/",
     "height": 67
    },
    "colab_type": "code",
    "id": "cR7WrFKLLixv",
    "outputId": "842b7b23-8d23-4e99-dc2a-d8141623b74d"
   },
   "outputs": [
    {
     "name": "stdout",
     "output_type": "stream",
     "text": [
      "(10054, 5)\n",
      "(1257, 5)\n",
      "(1257, 5)\n"
     ]
    }
   ],
   "source": [
    "print(train_df.shape)\n",
    "print(test_df.shape)\n",
    "print(cv_df.shape)"
   ]
  },
  {
   "cell_type": "code",
   "execution_count": 0,
   "metadata": {
    "colab": {},
    "colab_type": "code",
    "id": "fo20cmoxMMiP"
   },
   "outputs": [],
   "source": [
    "import numpy as np\n",
    "def rle2mask(rle):\n",
    "  # If rle is empty or null\n",
    "  if(len(rle)<1): \n",
    "    return np.zeros((128,800) ,dtype=np.uint8)\n",
    "    \n",
    "  height = 256\n",
    "  width = 1600\n",
    "  \n",
    "  # Defining the length of mask. This will be 1d array and later will be reshaped to 2d.\n",
    "  mask = np.zeros(height*width ).astype(np.uint8)\n",
    "  # We will have an array that wil contain rle\n",
    "  array = np.asarray([int(x) for x in rle.split()])\n",
    "  start = array[0::2]-1 # this willl contain the start of run length\n",
    "  length = array[1::2] # this will contain the length of each rle.\n",
    "  '''\n",
    "    pixels = np.array((0, 1, 1, 1, 1, 0, 0, 0, 1))\n",
    "\n",
    "    # Concatenating a zero at the start and end of the array is to\n",
    "    # make sure that the first changing is always from 0 to 1\n",
    "    pixels = np.concatenate([[0], pixels, [0]])\n",
    "    print('pixels:', pixels)\n",
    "\n",
    "    # the array except the first element\n",
    "    print('pixels[1:]:', pixels[1:])\n",
    "    # the array except the last element\n",
    "    print('pixels[:-1]:', pixels[:-1])\n",
    "\n",
    "    # runs include indices to wherever 0s change to 1s or 1s change to 0s\n",
    "    print('where condition:', pixels[1:] != pixels[:-1])\n",
    "    runs = np.where(pixels[1:] != pixels[:-1])\n",
    "    print('runs:', runs)\n",
    "\n",
    "    # the purpose of adding 1 here is to make sure that the indices point to\n",
    "    # the very first 1s or 0s of the 1s or 0s, this is needed because\n",
    "    # np.where gets the indices of elements before changing\n",
    "    runs = runs[0] + 1\n",
    "    print('runs = runs[0] + 1:', runs)\n",
    "\n",
    "    # runs[1::2] --> runs[start:stop:step], thus 2 here is the step\n",
    "    # thus runs[1::2] includes the indices of the changing from 1 to 0\n",
    "    print('runs[1::2]:', runs[1::2])\n",
    "\n",
    "    # runs[::2] includes the indices for the changing from 0 to 1\n",
    "    print('runs[::2]:', runs[::2])\n",
    "\n",
    "    # the length of 1s\n",
    "    print('runs[1::2]-runs[::2]:', runs[1::2] - runs[::2])\n",
    "\n",
    "    # replace runs[1::2] with the lengths of consecutive 1s\n",
    "    runs[1::2] -= runs[::2]\n",
    "\n",
    "    print('return:', ' '.join(str(x) for x in runs))\n",
    "    \n",
    "    Output:\n",
    "    pixels: [0 0 1 1 1 1 0 0 0 1 0]\n",
    "    pixels[1:]: [0 1 1 1 1 0 0 0 1 0]\n",
    "    pixels[:-1]: [0 0 1 1 1 1 0 0 0 1]\n",
    "    where condition: [False  True False False False  True False False  True  True]\n",
    "    runs: (array([1, 5, 8, 9]),)\n",
    "    runs = runs[0] + 1: [ 2  6  9 10]\n",
    "    runs[1::2]: [ 6 10]\n",
    "    runs[::2]: [2 9]\n",
    "    runs[1::2]-runs[::2]: [4 1]\n",
    "    return: 2 4 9 1\n",
    "    \n",
    "  '''\n",
    "  #  now we will chane the value of each pixel in the rle to 1.\n",
    "  for i,start in enumerate(start):\n",
    "    mask[int(start):int(start+length[i])] = 1\n",
    "    \n",
    "    '''\n",
    "    width=4, height=3\n",
    "    \n",
    "    s = [1,2,3,4,5,6,7,8,9,10,11,12]\n",
    "\n",
    "    s.reshape(4,3) :\n",
    "    [[ 1  2  3]\n",
    "     [ 4  5  6]\n",
    "     [ 7  8  9]\n",
    "     [10 11 12]]\n",
    "\n",
    "    s.reshape(4,3).T :\n",
    "    [[ 1  4  7 10]\n",
    "     [ 2  5  8 11]\n",
    "     [ 3  6  9 12]]\n",
    "    '''\n",
    "    \n",
    "  # now we will return the mask by first reshaping it and then rotating by 90 degrees and the vertically flipping it upside down.\n",
    "  #return np.flipud(np.rot90(mask.reshape(width, height), k=1)) # Here k=1 means we will rotate only once.\n",
    "  return mask.reshape( (height,width), order='F' )[::2,::2]"
   ]
  },
  {
   "cell_type": "code",
   "execution_count": 0,
   "metadata": {
    "colab": {},
    "colab_type": "code",
    "id": "T4EiRngTMQ-2"
   },
   "outputs": [],
   "source": [
    "    def mask2rle(img):\n",
    "        '''\n",
    "        img: numpy array, 1 - mask, 0 - background\n",
    "        Returns run length as string formated\n",
    "        '''\n",
    "        #print(img.shape)\n",
    "        pixels= img.T.flatten()\n",
    "        pixels = np.concatenate([[0], pixels, [0]])\n",
    "        runs = np.where(pixels[1:] != pixels[:-1])[0] + 1\n",
    "        runs[1::2] -= runs[::2]\n",
    "        return ' '.join(str(x) for x in runs)"
   ]
  },
  {
   "cell_type": "code",
   "execution_count": null,
   "metadata": {},
   "outputs": [],
   "source": [
    "    '''\n",
    "    mask_rle = ' '.join(str(x) for x in runs)\n",
    "    s = mask_rle.split()\n",
    "    print('s:', s)\n",
    "\n",
    "    print('s[0:][::2]:', s[0:][::2])\n",
    "    assert(s[0:][::2] == s[::2])\n",
    "\n",
    "    print('s[1:][::2]:', s[1:][::2])\n",
    "    assert(s[1:][::2] == s[1::2])\n",
    "\n",
    "    starts = [np.asarray(x, dtype=int) for x in (s[0:][::2], s[1:][::2])]\n",
    "    print('starts:', starts)\n",
    "\n",
    "    rle_decode(mask_rle, (1, 9))\n",
    "    \n",
    "    \n",
    "    output:\n",
    "    s: ['2', '4', '9', '1']\n",
    "    s[0:][::2]: ['2', '9']\n",
    "    s[1:][::2]: ['4', '1']\n",
    "    starts: [array([2, 9]), array([4, 1])]\n",
    "    array([[0, 1, 1, 1, 1, 0, 0, 0, 1]], dtype=uint8)\n",
    "    '''"
   ]
  },
  {
   "cell_type": "markdown",
   "metadata": {
    "colab_type": "text",
    "id": "dUvCMyQfbD_s"
   },
   "source": [
    "### Data Augmentation"
   ]
  },
  {
   "cell_type": "code",
   "execution_count": 0,
   "metadata": {
    "colab": {},
    "colab_type": "code",
    "id": "CA8nkPVPMVLn"
   },
   "outputs": [],
   "source": [
    "import keras\n",
    "from keras.preprocessing.image import ImageDataGenerator\n",
    "class DataGenerator(keras.utils.Sequence):\n",
    "    def __init__(self, df, batch_size = 16, subset=\"train\", shuffle=False, \n",
    "                 preprocess=None, info={}):\n",
    "        super().__init__()\n",
    "        self.df = df\n",
    "        self.shuffle = shuffle\n",
    "        self.subset = subset\n",
    "        self.batch_size = batch_size\n",
    "        self.preprocess = preprocess\n",
    "        self.info = info\n",
    "        \n",
    "        if self.subset == \"train\":\n",
    "            self.data_path = '/content/' + 'train_images/'\n",
    "        elif self.subset == \"test\":\n",
    "            self.data_path = '/content/' + 'train_images/'\n",
    "        self.on_epoch_end()\n",
    "        \n",
    "    def __len__(self):\n",
    "        return int(np.floor(len(self.df) / self.batch_size))\n",
    "    \n",
    "    def on_epoch_end(self):\n",
    "        self.indexes = np.arange(len(self.df))\n",
    "        if self.shuffle == True:\n",
    "            np.random.shuffle(self.indexes)\n",
    "    #fliping the images horizontally and samplewise std normalization\n",
    "    def __getitem__(self, index):\n",
    "        train_datagen = ImageDataGenerator()\n",
    "        param = {'flip_horizontal':True, 'samplewise_std_normalization' : True}\n",
    "        \n",
    "        X = np.empty((self.batch_size,128,800,3),dtype=np.float32)\n",
    "        y = np.empty((self.batch_size,128,800,4),dtype=np.int8)\n",
    "        indexes = self.indexes[index*self.batch_size:(index+1)*self.batch_size]\n",
    "        for i,f in enumerate(self.df['ImageId'].iloc[indexes]):\n",
    "            self.info[index*self.batch_size+i]=f\n",
    "            img = Image.open(self.data_path + f).resize((800,128))\n",
    "            X[i,] = train_datagen.apply_transform(x = img, transform_parameters = param)\n",
    "            if self.subset == 'train': \n",
    "                #run-length encoding on the pixel values\n",
    "                for j in range(4):\n",
    "                    mask = rle2mask(self.df['e'+str(j+1)].iloc[indexes[i]])\n",
    "                    y[i,:,:,j] = train_datagen.apply_transform(x = mask, transform_parameters = param)\n",
    "        if self.preprocess!=None: X = self.preprocess(X)\n",
    "        if self.subset == 'train': return X, y\n",
    "        else: return X"
   ]
  },
  {
   "cell_type": "code",
   "execution_count": 0,
   "metadata": {
    "colab": {},
    "colab_type": "code",
    "id": "ho6z1r44Mpfm"
   },
   "outputs": [],
   "source": [
    "from keras import backend as K\n",
    "from keras.losses import binary_crossentropy\n",
    "# Competetion Metric\n",
    "def dice_coef(y_true, y_pred, smooth=1):\n",
    "    y_true_f = K.flatten(y_true)\n",
    "    y_pred_f = K.flatten(y_pred)\n",
    "    intersection = K.sum(y_true_f * y_pred_f)\n",
    "    return (2. * intersection + smooth) / (K.sum(y_true_f) + K.sum(y_pred_f) + smooth)\n",
    "  \n",
    "def  bce_dice_loss(y_true, y_predict):\n",
    "  return binary_crossentropy(y_true, y_predict) + (1-dice_coef(y_true, y_predict))"
   ]
  },
  {
   "cell_type": "markdown",
   "metadata": {
    "colab_type": "text",
    "id": "eraK5YJbbD_2"
   },
   "source": [
    "# Final model"
   ]
  },
  {
   "cell_type": "code",
   "execution_count": 28,
   "metadata": {
    "colab": {
     "base_uri": "https://localhost:8080/",
     "height": 390
    },
    "colab_type": "code",
    "id": "qd7NRBT2Mt1m",
    "outputId": "28d9dd73-b04c-4ef7-87d8-e3b9857e9384"
   },
   "outputs": [
    {
     "name": "stdout",
     "output_type": "stream",
     "text": [
      "WARNING:tensorflow:From /usr/local/lib/python3.6/dist-packages/keras/backend/tensorflow_backend.py:66: The name tf.get_default_graph is deprecated. Please use tf.compat.v1.get_default_graph instead.\n",
      "\n",
      "WARNING:tensorflow:From /usr/local/lib/python3.6/dist-packages/keras/backend/tensorflow_backend.py:541: The name tf.placeholder is deprecated. Please use tf.compat.v1.placeholder instead.\n",
      "\n",
      "WARNING:tensorflow:From /usr/local/lib/python3.6/dist-packages/keras/backend/tensorflow_backend.py:4432: The name tf.random_uniform is deprecated. Please use tf.random.uniform instead.\n",
      "\n",
      "WARNING:tensorflow:From /usr/local/lib/python3.6/dist-packages/keras/backend/tensorflow_backend.py:190: The name tf.get_default_session is deprecated. Please use tf.compat.v1.get_default_session instead.\n",
      "\n",
      "WARNING:tensorflow:From /usr/local/lib/python3.6/dist-packages/keras/backend/tensorflow_backend.py:197: The name tf.ConfigProto is deprecated. Please use tf.compat.v1.ConfigProto instead.\n",
      "\n",
      "WARNING:tensorflow:From /usr/local/lib/python3.6/dist-packages/keras/backend/tensorflow_backend.py:2041: The name tf.nn.fused_batch_norm is deprecated. Please use tf.compat.v1.nn.fused_batch_norm instead.\n",
      "\n",
      "WARNING:tensorflow:From /usr/local/lib/python3.6/dist-packages/keras/backend/tensorflow_backend.py:4267: The name tf.nn.max_pool is deprecated. Please use tf.nn.max_pool2d instead.\n",
      "\n",
      "WARNING:tensorflow:From /usr/local/lib/python3.6/dist-packages/keras/backend/tensorflow_backend.py:2239: The name tf.image.resize_nearest_neighbor is deprecated. Please use tf.compat.v1.image.resize_nearest_neighbor instead.\n",
      "\n",
      "WARNING:tensorflow:From /usr/local/lib/python3.6/dist-packages/keras/optimizers.py:793: The name tf.train.Optimizer is deprecated. Please use tf.compat.v1.train.Optimizer instead.\n",
      "\n",
      "WARNING:tensorflow:From /usr/local/lib/python3.6/dist-packages/tensorflow/python/ops/nn_impl.py:180: add_dispatch_support.<locals>.wrapper (from tensorflow.python.ops.array_ops) is deprecated and will be removed in a future version.\n",
      "Instructions for updating:\n",
      "Use tf.where in 2.0, which has the same broadcast rule as np.where\n"
     ]
    }
   ],
   "source": [
    "    inputs = Input((128,800,3)) # 256\n",
    "    down = Conv2D(32, (3, 3), padding='same')(inputs)\n",
    "    down = BatchNormalization()(down)\n",
    "    down = Activation('relu')(down)\n",
    "    down_pool = MaxPooling2D((2, 2), strides=(2, 2))(down) #128\n",
    "    center = Conv2D(128, (3, 3), padding='same')(down_pool)\n",
    "    center = BatchNormalization()(center)\n",
    "    center = Activation('relu')(center) # center\n",
    "    up = UpSampling2D((2, 2))(center)\n",
    "    up = concatenate([down, up], axis=3)\n",
    "    up = Conv2D(32, (3, 3), padding='same')(up)\n",
    "    up = BatchNormalization()(up)\n",
    "    up = Activation('relu')(up) # 256\n",
    "    classify = Conv2D(4, (1, 1), activation='sigmoid')(up)\n",
    "    model = Model(inputs=inputs, outputs=classify)\n",
    "    model.compile(optimizer='adam', loss='binary_crossentropy' , metrics=['accuracy',dice_coef])"
   ]
  },
  {
   "cell_type": "code",
   "execution_count": 0,
   "metadata": {
    "colab": {
     "base_uri": "https://localhost:8080/",
     "height": 797
    },
    "colab_type": "code",
    "id": "pDGNpBSSO1m9",
    "outputId": "8ed2cd45-5396-4e24-ccbf-142ff97226ea"
   },
   "outputs": [
    {
     "name": "stdout",
     "output_type": "stream",
     "text": [
      "Epoch 1/20\n",
      "628/628 [==============================] - 388s 619ms/step - loss: 0.0997 - acc: 0.9827 - dice_coef: 0.0321 - val_loss: 0.0410 - val_acc: 0.9928 - val_dice_coef: 0.0212\n",
      "Epoch 2/20\n",
      "628/628 [==============================] - 382s 608ms/step - loss: 0.0355 - acc: 0.9922 - dice_coef: 0.0760 - val_loss: 0.0345 - val_acc: 0.9929 - val_dice_coef: 0.0642\n",
      "Epoch 3/20\n",
      "628/628 [==============================] - 379s 603ms/step - loss: 0.0327 - acc: 0.9923 - dice_coef: 0.1053 - val_loss: 0.0367 - val_acc: 0.9918 - val_dice_coef: 0.0938\n",
      "Epoch 4/20\n",
      "628/628 [==============================] - 379s 604ms/step - loss: 0.0314 - acc: 0.9924 - dice_coef: 0.1254 - val_loss: 0.0299 - val_acc: 0.9931 - val_dice_coef: 0.1306\n",
      "Epoch 5/20\n",
      "628/628 [==============================] - 383s 609ms/step - loss: 0.0307 - acc: 0.9925 - dice_coef: 0.1354 - val_loss: 0.0296 - val_acc: 0.9931 - val_dice_coef: 0.1336\n",
      "Epoch 6/20\n",
      "628/628 [==============================] - 380s 606ms/step - loss: 0.0302 - acc: 0.9925 - dice_coef: 0.1458 - val_loss: 0.0293 - val_acc: 0.9932 - val_dice_coef: 0.1349\n",
      "Epoch 7/20\n",
      "628/628 [==============================] - 381s 606ms/step - loss: 0.0300 - acc: 0.9925 - dice_coef: 0.1488 - val_loss: 0.0284 - val_acc: 0.9932 - val_dice_coef: 0.1389\n",
      "Epoch 8/20\n",
      "628/628 [==============================] - 382s 607ms/step - loss: 0.0297 - acc: 0.9926 - dice_coef: 0.1542 - val_loss: 0.0283 - val_acc: 0.9932 - val_dice_coef: 0.1288\n",
      "Epoch 9/20\n",
      "628/628 [==============================] - 382s 609ms/step - loss: 0.0294 - acc: 0.9926 - dice_coef: 0.1625 - val_loss: 0.0272 - val_acc: 0.9933 - val_dice_coef: 0.1485\n",
      "Epoch 10/20\n",
      "628/628 [==============================] - 381s 607ms/step - loss: 0.0293 - acc: 0.9926 - dice_coef: 0.1640 - val_loss: 0.0307 - val_acc: 0.9931 - val_dice_coef: 0.1006\n",
      "Epoch 11/20\n",
      "628/628 [==============================] - 381s 607ms/step - loss: 0.0290 - acc: 0.9927 - dice_coef: 0.1681 - val_loss: 0.0302 - val_acc: 0.9929 - val_dice_coef: 0.1412\n",
      "Epoch 12/20\n",
      "628/628 [==============================] - 382s 609ms/step - loss: 0.0290 - acc: 0.9927 - dice_coef: 0.1691 - val_loss: 0.0359 - val_acc: 0.9933 - val_dice_coef: 0.1011\n",
      "Epoch 13/20\n",
      "628/628 [==============================] - 385s 613ms/step - loss: 0.0288 - acc: 0.9927 - dice_coef: 0.1714 - val_loss: 0.0288 - val_acc: 0.9930 - val_dice_coef: 0.1012\n",
      "Epoch 14/20\n",
      "628/628 [==============================] - 385s 613ms/step - loss: 0.0287 - acc: 0.9927 - dice_coef: 0.1754 - val_loss: 0.0276 - val_acc: 0.9931 - val_dice_coef: 0.1855\n",
      "Epoch 15/20\n",
      "628/628 [==============================] - 383s 610ms/step - loss: 0.0285 - acc: 0.9927 - dice_coef: 0.1752 - val_loss: 0.0276 - val_acc: 0.9933 - val_dice_coef: 0.1667\n",
      "Epoch 16/20\n",
      "628/628 [==============================] - 382s 609ms/step - loss: 0.0285 - acc: 0.9927 - dice_coef: 0.1797 - val_loss: 0.0276 - val_acc: 0.9933 - val_dice_coef: 0.1380\n",
      "Epoch 17/20\n",
      "628/628 [==============================] - 383s 610ms/step - loss: 0.0282 - acc: 0.9927 - dice_coef: 0.1812 - val_loss: 0.0272 - val_acc: 0.9933 - val_dice_coef: 0.1499\n",
      "Epoch 18/20\n",
      "628/628 [==============================] - 380s 606ms/step - loss: 0.0283 - acc: 0.9927 - dice_coef: 0.1822 - val_loss: 0.0311 - val_acc: 0.9922 - val_dice_coef: 0.1843\n",
      "Epoch 19/20\n",
      "628/628 [==============================] - 381s 606ms/step - loss: 0.0282 - acc: 0.9928 - dice_coef: 0.1835 - val_loss: 0.0263 - val_acc: 0.9934 - val_dice_coef: 0.1659\n",
      "Epoch 20/20\n",
      "628/628 [==============================] - 382s 609ms/step - loss: 0.0282 - acc: 0.9928 - dice_coef: 0.1853 - val_loss: 0.0264 - val_acc: 0.9933 - val_dice_coef: 0.1525\n"
     ]
    }
   ],
   "source": [
    "train_batches = DataGenerator(train_df,shuffle=True)\n",
    "valid_batches = DataGenerator(cv_df)\n",
    "history = model.fit_generator(train_batches, validation_data = valid_batches, epochs = 20, verbose=1)"
   ]
  },
  {
   "cell_type": "code",
   "execution_count": 0,
   "metadata": {
    "colab": {},
    "colab_type": "code",
    "id": "XbPanXvQPI36"
   },
   "outputs": [],
   "source": [
    "from keras.models import load_model\n",
    "\n",
    "model.save('model1.h5')"
   ]
  },
  {
   "cell_type": "code",
   "execution_count": 0,
   "metadata": {
    "colab": {
     "base_uri": "https://localhost:8080/",
     "height": 521
    },
    "colab_type": "code",
    "id": "vPHafjhmd1gn",
    "outputId": "8d5d546f-a25d-4d9a-a08e-11dd78f2659e"
   },
   "outputs": [
    {
     "data": {
      "image/png": "[encoded data removed]",
      "text/plain": [
       "<Figure size 432x288 with 1 Axes>"
      ]
     },
     "metadata": {
      "tags": []
     },
     "output_type": "display_data"
    },
    {
     "data": {
      "image/png": "[encoded data removed]",
      "text/plain": [
       "<Figure size 432x288 with 1 Axes>"
      ]
     },
     "metadata": {
      "tags": []
     },
     "output_type": "display_data"
    }
   ],
   "source": [
    "import json\n",
    "with open('history.json','w') as f:\n",
    "  json.dump(history.history, f)            \n",
    "  history_df = pd.DataFrame(history.history)\n",
    "  history_df[['loss', 'val_loss']].plot()\n",
    "  history_df[['dice_coef', 'val_dice_coef']].plot()"
   ]
  },
  {
   "cell_type": "code",
   "execution_count": 0,
   "metadata": {
    "colab": {
     "base_uri": "https://localhost:8080/",
     "height": 36
    },
    "colab_type": "code",
    "id": "e_09EOsCQUTP",
    "outputId": "55b3a8d7-3475-4e12-8f1d-c3c88992857c"
   },
   "outputs": [
    {
     "name": "stdout",
     "output_type": "stream",
     "text": [
      "1257/1257 [==============================] - 25s 20ms/step\n"
     ]
    }
   ],
   "source": [
    "test_batches = DataGenerator(test_df, subset='test',batch_size=1)\n",
    "preds = model.predict_generator(test_batches,verbose=1)"
   ]
  },
  {
   "cell_type": "code",
   "execution_count": 0,
   "metadata": {
    "colab": {},
    "colab_type": "code",
    "id": "jCynYJCmQXLs"
   },
   "outputs": [],
   "source": [
    "# Predicting on test data\n",
    "from tqdm import tqdm\n",
    "data_path = '/content/' + 'test_images/'\n",
    "files = list(os.listdir(data_path))\n",
    "img_classId = []\n",
    "rle_lst = []\n",
    "for f in files:\n",
    "  X = np.empty((1,128,800,3),dtype=np.float32)\n",
    "  img = cv2.imread(data_path + f)\n",
    "  img = cv2.cvtColor(img, cv2.COLOR_BGR2RGB)\n",
    "  img = cv2.resize(img, (800,128))\n",
    "  X[0,] = img\n",
    "  mask = model.predict(X)\n",
    "  #print(mask[0,:,:,1].shape)\n",
    "  rle_m = np.empty((128,800),dtype=np.uint8)\n",
    "  for i in range(4):\n",
    "    rle_m = mask[0,:,:,i].round().astype(int)\n",
    "    rle = mask2rle(rle_m)\n",
    "    rle_lst.append(rle)\n",
    "    img_classId.append(f+'_'+str(i+1))"
   ]
  },
  {
   "cell_type": "code",
   "execution_count": 0,
   "metadata": {
    "colab": {},
    "colab_type": "code",
    "id": "5M1oqO16RV4Z"
   },
   "outputs": [],
   "source": [
    "output = {'ImageId_ClassId':img_classId, 'EncodedPixels' : rle_lst}\n",
    "import pandas as pd\n",
    "output_df = pd.DataFrame(output)\n",
    "output_df.to_csv('submission.csv', index=False)"
   ]
  },
  {
   "cell_type": "markdown",
   "metadata": {
    "colab_type": "text",
    "id": "BncmkstQa8x3"
   },
   "source": [
    "# Conclusion"
   ]
  },
  {
   "cell_type": "markdown",
   "metadata": {
    "colab_type": "text",
    "id": "Ey1hnL8Sa8x5"
   },
   "source": [
    " classified the type of steel defect,segmented the parts of the image that contain the defect and achieved Dice coefficient of less than 0.09"
   ]
  }
 ],
 "metadata": {
  "accelerator": "GPU",
  "colab": {
   "collapsed_sections": [
    "xVd0HpW3a8wa",
    "U4pFdWRaa8xE"
   ],
   "name": "dectection_42.ipynb",
   "provenance": [],
   "toc_visible": true
  },
  "kernelspec": {
   "display_name": "Python 3",
   "language": "python",
   "name": "python3"
  },
  "language_info": {
   "codemirror_mode": {
    "name": "ipython",
    "version": 3
   },
   "file_extension": ".py",
   "mimetype": "text/x-python",
   "name": "python",
   "nbconvert_exporter": "python",
   "pygments_lexer": "ipython3",
   "version": "3.7.1"
  }
 },
 "nbformat": 4,
 "nbformat_minor": 1
}
